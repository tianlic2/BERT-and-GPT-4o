{
 "cells": [
  {
   "cell_type": "code",
   "execution_count": 1,
   "id": "2fbd4963",
   "metadata": {},
   "outputs": [],
   "source": [
    "from openai import OpenAI\n",
    "import pandas as pd\n",
    "\n",
    "client = OpenAI(\n",
    "    # defaults to os.environ.get(\"OPENAI_API_KEY\")\n",
    "    api_key=\"xxxxx\",\n",
    ")\n",
    "\n",
    "def answer(prompt):\n",
    "    response = client.chat.completions.create(\n",
    "        model=\"gpt-4o\",\n",
    "        messages=[{\"role\": \"user\", \"content\": prompt}],\n",
    "        temperature = 0\n",
    "    )\n",
    "    return response.choices[0].message.content.strip()"
   ]
  },
  {
   "cell_type": "code",
   "execution_count": 2,
   "id": "b98f1ee5",
   "metadata": {},
   "outputs": [],
   "source": [
    "def feed(i,df):\n",
    "    text = (\n",
    "    \"Evaluate the sentiment toward cultured meat that this tweet expresses: \" + df['Tweet'][i] + '\\n'+'Return your response only as positive (which indicates positive sentiment toward cultured meat is expressed), negative (which indicates negative sentiment toward cultured meat is expressed), neutral (which indicates no sentiment toward cultured meat is expressed), or combination (which indicates that both positive and negative sentiments toward cultured meat are expressed).')\n",
    "    return text"
   ]
  },
  {
   "cell_type": "code",
   "execution_count": 3,
   "id": "4c814ede",
   "metadata": {},
   "outputs": [],
   "source": [
    "import pandas as pd\n",
    "Paris_1 = pd.read_csv('Coding_Paris_Week1.csv')\n",
    "Paris_2 = pd.read_csv('Coding_Paris_Week2.csv')\n",
    "Paris_3 = pd.read_csv('Coding_Paris_Week3.csv')\n",
    "Paris_4 = pd.read_csv('Coding_Paris_Week4.csv')\n",
    "Paris_5 = pd.read_csv('Coding_Paris_Week5.csv')\n",
    "Shawn_1 = pd.read_csv('Coding_Shawn_Week1.csv')\n",
    "Shawn_2 = pd.read_csv('Coding_Shawn_Week2.csv')\n",
    "Shawn_3 = pd.read_csv('Coding_Shawn_Week3.csv')\n",
    "Shawn_4 = pd.read_csv('Coding_Shawn_Week4.csv')\n",
    "Shawn_5 = pd.read_csv('Coding_Shawn_Week5.csv')\n",
    "Tianli_1 = pd.read_csv('Coding_Tianli_Week1.csv')\n",
    "Tianli_2 = pd.read_csv('Coding_Tianli_Week2.csv')\n",
    "Tianli_3 = pd.read_csv('Coding_Tianli_Week3.csv')\n",
    "Tianli_4 = pd.read_csv('Coding_Tianli_Week4.csv')\n",
    "Tianli_5 = pd.read_csv('Coding_Tianli_Week5.csv')\n",
    "# Combine all the data frames into one\n",
    "combined_df = pd.concat([\n",
    "    Paris_1, Paris_2, Paris_3, Paris_4, Paris_5,\n",
    "    Shawn_1, Shawn_2, Shawn_3, Shawn_4, Shawn_5,\n",
    "    Tianli_1, Tianli_2, Tianli_3, Tianli_4, Tianli_5\n",
    "], ignore_index=True)\n",
    "\n",
    "combined_df['Sentiment'] = combined_df['Sentiment'].astype(int)"
   ]
  },
  {
   "cell_type": "markdown",
   "id": "c3d9d387",
   "metadata": {},
   "source": [
    "An example of actual prompt:"
   ]
  },
  {
   "cell_type": "code",
   "execution_count": 4,
   "id": "cf246d45",
   "metadata": {},
   "outputs": [
    {
     "name": "stdout",
     "output_type": "stream",
     "text": [
      "Evaluate the sentiment toward cultured meat that this tweet expresses: The future will be full of lab grown meat: http://t.co/xFPgLz0yg2 http://t.co/u1voAdrQ0a http://t.co/yxksEjq3kZ\n",
      "Return your response only as positive (which indicates positive sentiment toward cultured meat is expressed), negative (which indicates negative sentiment toward cultured meat is expressed), neutral (which indicates no sentiment toward cultured meat is expressed), or combination (which indicates that both positive and negative sentiments toward cultured meat are expressed).\n"
     ]
    }
   ],
   "source": [
    "print(feed(1,combined_df))"
   ]
  },
  {
   "cell_type": "code",
   "execution_count": 5,
   "id": "8885d79f",
   "metadata": {},
   "outputs": [],
   "source": [
    "train_df = combined_df.sample(frac=0.8, random_state=2024)\n",
    "\n",
    "# remaining 20% as validation set\n",
    "validation_df = combined_df.drop(train_df.index)"
   ]
  },
  {
   "cell_type": "code",
   "execution_count": 6,
   "id": "1f6a7e6f",
   "metadata": {
    "scrolled": true
   },
   "outputs": [
    {
     "data": {
      "text/html": [
       "<div>\n",
       "<style scoped>\n",
       "    .dataframe tbody tr th:only-of-type {\n",
       "        vertical-align: middle;\n",
       "    }\n",
       "\n",
       "    .dataframe tbody tr th {\n",
       "        vertical-align: top;\n",
       "    }\n",
       "\n",
       "    .dataframe thead th {\n",
       "        text-align: right;\n",
       "    }\n",
       "</style>\n",
       "<table border=\"1\" class=\"dataframe\">\n",
       "  <thead>\n",
       "    <tr style=\"text-align: right;\">\n",
       "      <th></th>\n",
       "      <th>Tweet</th>\n",
       "      <th>Sentiment</th>\n",
       "    </tr>\n",
       "  </thead>\n",
       "  <tbody>\n",
       "    <tr>\n",
       "      <th>0</th>\n",
       "      <td>@csimpsyo @Tbogin @jonlovett Cultured meat</td>\n",
       "      <td>3</td>\n",
       "    </tr>\n",
       "    <tr>\n",
       "      <th>1</th>\n",
       "      <td>RT @ndonyourtable What's the difference betwee...</td>\n",
       "      <td>3</td>\n",
       "    </tr>\n",
       "    <tr>\n",
       "      <th>2</th>\n",
       "      <td>#Technology #Tech Lab-Grown Meat Is Coming htt...</td>\n",
       "      <td>3</td>\n",
       "    </tr>\n",
       "    <tr>\n",
       "      <th>3</th>\n",
       "      <td>This year is the first time cultivated meat ha...</td>\n",
       "      <td>3</td>\n",
       "    </tr>\n",
       "    <tr>\n",
       "      <th>4</th>\n",
       "      <td>RT @NewHarvestOrg 🍗and @UmaValeti, who co-foun...</td>\n",
       "      <td>3</td>\n",
       "    </tr>\n",
       "    <tr>\n",
       "      <th>...</th>\n",
       "      <td>...</td>\n",
       "      <td>...</td>\n",
       "    </tr>\n",
       "    <tr>\n",
       "      <th>4590</th>\n",
       "      <td>@Joseph_Plant What goes into lab grown meat? I...</td>\n",
       "      <td>2</td>\n",
       "    </tr>\n",
       "    <tr>\n",
       "      <th>4591</th>\n",
       "      <td>Google Funding Lab Grown Meat… No Animals Kill...</td>\n",
       "      <td>1</td>\n",
       "    </tr>\n",
       "    <tr>\n",
       "      <th>4592</th>\n",
       "      <td>RT @Orbyne #LSEForum cultured meat avoids the ...</td>\n",
       "      <td>1</td>\n",
       "    </tr>\n",
       "    <tr>\n",
       "      <th>4593</th>\n",
       "      <td>@MusadADroid @AuthorGusPegel The answer would ...</td>\n",
       "      <td>4</td>\n",
       "    </tr>\n",
       "    <tr>\n",
       "      <th>4594</th>\n",
       "      <td>@guardiannews LAB-GROWN MEAT HITS A MAJOR MILE...</td>\n",
       "      <td>3</td>\n",
       "    </tr>\n",
       "  </tbody>\n",
       "</table>\n",
       "<p>4595 rows × 2 columns</p>\n",
       "</div>"
      ],
      "text/plain": [
       "                                                  Tweet  Sentiment\n",
       "0            @csimpsyo @Tbogin @jonlovett Cultured meat          3\n",
       "1     RT @ndonyourtable What's the difference betwee...          3\n",
       "2     #Technology #Tech Lab-Grown Meat Is Coming htt...          3\n",
       "3     This year is the first time cultivated meat ha...          3\n",
       "4     RT @NewHarvestOrg 🍗and @UmaValeti, who co-foun...          3\n",
       "...                                                 ...        ...\n",
       "4590  @Joseph_Plant What goes into lab grown meat? I...          2\n",
       "4591  Google Funding Lab Grown Meat… No Animals Kill...          1\n",
       "4592  RT @Orbyne #LSEForum cultured meat avoids the ...          1\n",
       "4593  @MusadADroid @AuthorGusPegel The answer would ...          4\n",
       "4594  @guardiannews LAB-GROWN MEAT HITS A MAJOR MILE...          3\n",
       "\n",
       "[4595 rows x 2 columns]"
      ]
     },
     "execution_count": 6,
     "metadata": {},
     "output_type": "execute_result"
    }
   ],
   "source": [
    "validation_df = validation_df.reset_index(drop=True)\n",
    "validation_df"
   ]
  },
  {
   "cell_type": "code",
   "execution_count": 7,
   "id": "d968318a",
   "metadata": {},
   "outputs": [
    {
     "ename": "AuthenticationError",
     "evalue": "Error code: 401 - {'error': {'message': 'Incorrect API key provided: xxxxx. You can find your API key at https://platform.openai.com/account/api-keys.', 'type': 'invalid_request_error', 'param': None, 'code': 'invalid_api_key'}}",
     "output_type": "error",
     "traceback": [
      "\u001b[0;31m---------------------------------------------------------------------------\u001b[0m",
      "\u001b[0;31mAuthenticationError\u001b[0m                       Traceback (most recent call last)",
      "\u001b[0;32m/var/folders/kq/dw4t6mvj19n1nd6l0pqkd1tr0000gn/T/ipykernel_7397/3076730100.py\u001b[0m in \u001b[0;36m<module>\u001b[0;34m\u001b[0m\n\u001b[1;32m      4\u001b[0m \u001b[0mcount\u001b[0m \u001b[0;34m=\u001b[0m \u001b[0;36m0\u001b[0m\u001b[0;34m\u001b[0m\u001b[0;34m\u001b[0m\u001b[0m\n\u001b[1;32m      5\u001b[0m \u001b[0;32mfor\u001b[0m \u001b[0mi\u001b[0m\u001b[0;34m,\u001b[0m \u001b[0mv\u001b[0m \u001b[0;32min\u001b[0m \u001b[0mvalidation_df\u001b[0m\u001b[0;34m.\u001b[0m\u001b[0miterrows\u001b[0m\u001b[0;34m(\u001b[0m\u001b[0;34m)\u001b[0m\u001b[0;34m:\u001b[0m\u001b[0;34m\u001b[0m\u001b[0;34m\u001b[0m\u001b[0m\n\u001b[0;32m----> 6\u001b[0;31m     \u001b[0msentiment\u001b[0m\u001b[0;34m.\u001b[0m\u001b[0mappend\u001b[0m\u001b[0;34m(\u001b[0m\u001b[0manswer\u001b[0m\u001b[0;34m(\u001b[0m\u001b[0mfeed\u001b[0m\u001b[0;34m(\u001b[0m\u001b[0mi\u001b[0m\u001b[0;34m,\u001b[0m\u001b[0mvalidation_df\u001b[0m\u001b[0;34m)\u001b[0m\u001b[0;34m)\u001b[0m\u001b[0;34m)\u001b[0m\u001b[0;34m\u001b[0m\u001b[0;34m\u001b[0m\u001b[0m\n\u001b[0m\u001b[1;32m      7\u001b[0m \u001b[0mtime_used\u001b[0m \u001b[0;34m=\u001b[0m \u001b[0mtime\u001b[0m\u001b[0;34m.\u001b[0m\u001b[0mtime\u001b[0m\u001b[0;34m(\u001b[0m\u001b[0;34m)\u001b[0m\u001b[0;34m-\u001b[0m\u001b[0mstart\u001b[0m\u001b[0;34m\u001b[0m\u001b[0;34m\u001b[0m\u001b[0m\n\u001b[1;32m      8\u001b[0m \u001b[0mtime_used\u001b[0m\u001b[0;34m\u001b[0m\u001b[0;34m\u001b[0m\u001b[0m\n",
      "\u001b[0;32m/var/folders/kq/dw4t6mvj19n1nd6l0pqkd1tr0000gn/T/ipykernel_7397/1716255556.py\u001b[0m in \u001b[0;36manswer\u001b[0;34m(prompt)\u001b[0m\n\u001b[1;32m     11\u001b[0m         \u001b[0mmodel\u001b[0m\u001b[0;34m=\u001b[0m\u001b[0;34m\"gpt-4o\"\u001b[0m\u001b[0;34m,\u001b[0m\u001b[0;34m\u001b[0m\u001b[0;34m\u001b[0m\u001b[0m\n\u001b[1;32m     12\u001b[0m         \u001b[0mmessages\u001b[0m\u001b[0;34m=\u001b[0m\u001b[0;34m[\u001b[0m\u001b[0;34m{\u001b[0m\u001b[0;34m\"role\"\u001b[0m\u001b[0;34m:\u001b[0m \u001b[0;34m\"user\"\u001b[0m\u001b[0;34m,\u001b[0m \u001b[0;34m\"content\"\u001b[0m\u001b[0;34m:\u001b[0m \u001b[0mprompt\u001b[0m\u001b[0;34m}\u001b[0m\u001b[0;34m]\u001b[0m\u001b[0;34m,\u001b[0m\u001b[0;34m\u001b[0m\u001b[0;34m\u001b[0m\u001b[0m\n\u001b[0;32m---> 13\u001b[0;31m         \u001b[0mtemperature\u001b[0m \u001b[0;34m=\u001b[0m \u001b[0;36m0\u001b[0m\u001b[0;34m\u001b[0m\u001b[0;34m\u001b[0m\u001b[0m\n\u001b[0m\u001b[1;32m     14\u001b[0m     )\n\u001b[1;32m     15\u001b[0m     \u001b[0;32mreturn\u001b[0m \u001b[0mresponse\u001b[0m\u001b[0;34m.\u001b[0m\u001b[0mchoices\u001b[0m\u001b[0;34m[\u001b[0m\u001b[0;36m0\u001b[0m\u001b[0;34m]\u001b[0m\u001b[0;34m.\u001b[0m\u001b[0mmessage\u001b[0m\u001b[0;34m.\u001b[0m\u001b[0mcontent\u001b[0m\u001b[0;34m.\u001b[0m\u001b[0mstrip\u001b[0m\u001b[0;34m(\u001b[0m\u001b[0;34m)\u001b[0m\u001b[0;34m\u001b[0m\u001b[0;34m\u001b[0m\u001b[0m\n",
      "\u001b[0;32m/opt/anaconda3/lib/python3.7/site-packages/openai/_utils/_utils.py\u001b[0m in \u001b[0;36mwrapper\u001b[0;34m(*args, **kwargs)\u001b[0m\n\u001b[1;32m    269\u001b[0m                         \u001b[0mmsg\u001b[0m \u001b[0;34m=\u001b[0m \u001b[0;34mf\"Missing required argument: {quote(missing[0])}\"\u001b[0m\u001b[0;34m\u001b[0m\u001b[0;34m\u001b[0m\u001b[0m\n\u001b[1;32m    270\u001b[0m                 \u001b[0;32mraise\u001b[0m \u001b[0mTypeError\u001b[0m\u001b[0;34m(\u001b[0m\u001b[0mmsg\u001b[0m\u001b[0;34m)\u001b[0m\u001b[0;34m\u001b[0m\u001b[0;34m\u001b[0m\u001b[0m\n\u001b[0;32m--> 271\u001b[0;31m             \u001b[0;32mreturn\u001b[0m \u001b[0mfunc\u001b[0m\u001b[0;34m(\u001b[0m\u001b[0;34m*\u001b[0m\u001b[0margs\u001b[0m\u001b[0;34m,\u001b[0m \u001b[0;34m**\u001b[0m\u001b[0mkwargs\u001b[0m\u001b[0;34m)\u001b[0m\u001b[0;34m\u001b[0m\u001b[0;34m\u001b[0m\u001b[0m\n\u001b[0m\u001b[1;32m    272\u001b[0m \u001b[0;34m\u001b[0m\u001b[0m\n\u001b[1;32m    273\u001b[0m         \u001b[0;32mreturn\u001b[0m \u001b[0mwrapper\u001b[0m  \u001b[0;31m# type: ignore\u001b[0m\u001b[0;34m\u001b[0m\u001b[0;34m\u001b[0m\u001b[0m\n",
      "\u001b[0;32m/opt/anaconda3/lib/python3.7/site-packages/openai/resources/chat/completions.py\u001b[0m in \u001b[0;36mcreate\u001b[0;34m(self, messages, model, frequency_penalty, function_call, functions, logit_bias, logprobs, max_tokens, n, presence_penalty, response_format, seed, stop, stream, temperature, tool_choice, tools, top_logprobs, top_p, user, extra_headers, extra_query, extra_body, timeout)\u001b[0m\n\u001b[1;32m    689\u001b[0m             \u001b[0mcast_to\u001b[0m\u001b[0;34m=\u001b[0m\u001b[0mChatCompletion\u001b[0m\u001b[0;34m,\u001b[0m\u001b[0;34m\u001b[0m\u001b[0;34m\u001b[0m\u001b[0m\n\u001b[1;32m    690\u001b[0m             \u001b[0mstream\u001b[0m\u001b[0;34m=\u001b[0m\u001b[0mstream\u001b[0m \u001b[0;32mor\u001b[0m \u001b[0;32mFalse\u001b[0m\u001b[0;34m,\u001b[0m\u001b[0;34m\u001b[0m\u001b[0;34m\u001b[0m\u001b[0m\n\u001b[0;32m--> 691\u001b[0;31m             \u001b[0mstream_cls\u001b[0m\u001b[0;34m=\u001b[0m\u001b[0mStream\u001b[0m\u001b[0;34m[\u001b[0m\u001b[0mChatCompletionChunk\u001b[0m\u001b[0;34m]\u001b[0m\u001b[0;34m,\u001b[0m\u001b[0;34m\u001b[0m\u001b[0;34m\u001b[0m\u001b[0m\n\u001b[0m\u001b[1;32m    692\u001b[0m         )\n\u001b[1;32m    693\u001b[0m \u001b[0;34m\u001b[0m\u001b[0m\n",
      "\u001b[0;32m/opt/anaconda3/lib/python3.7/site-packages/openai/_base_client.py\u001b[0m in \u001b[0;36mpost\u001b[0;34m(self, path, cast_to, body, options, files, stream, stream_cls)\u001b[0m\n\u001b[1;32m   1178\u001b[0m             \u001b[0mmethod\u001b[0m\u001b[0;34m=\u001b[0m\u001b[0;34m\"post\"\u001b[0m\u001b[0;34m,\u001b[0m \u001b[0murl\u001b[0m\u001b[0;34m=\u001b[0m\u001b[0mpath\u001b[0m\u001b[0;34m,\u001b[0m \u001b[0mjson_data\u001b[0m\u001b[0;34m=\u001b[0m\u001b[0mbody\u001b[0m\u001b[0;34m,\u001b[0m \u001b[0mfiles\u001b[0m\u001b[0;34m=\u001b[0m\u001b[0mto_httpx_files\u001b[0m\u001b[0;34m(\u001b[0m\u001b[0mfiles\u001b[0m\u001b[0;34m)\u001b[0m\u001b[0;34m,\u001b[0m \u001b[0;34m**\u001b[0m\u001b[0moptions\u001b[0m\u001b[0;34m\u001b[0m\u001b[0;34m\u001b[0m\u001b[0m\n\u001b[1;32m   1179\u001b[0m         )\n\u001b[0;32m-> 1180\u001b[0;31m         \u001b[0;32mreturn\u001b[0m \u001b[0mcast\u001b[0m\u001b[0;34m(\u001b[0m\u001b[0mResponseT\u001b[0m\u001b[0;34m,\u001b[0m \u001b[0mself\u001b[0m\u001b[0;34m.\u001b[0m\u001b[0mrequest\u001b[0m\u001b[0;34m(\u001b[0m\u001b[0mcast_to\u001b[0m\u001b[0;34m,\u001b[0m \u001b[0mopts\u001b[0m\u001b[0;34m,\u001b[0m \u001b[0mstream\u001b[0m\u001b[0;34m=\u001b[0m\u001b[0mstream\u001b[0m\u001b[0;34m,\u001b[0m \u001b[0mstream_cls\u001b[0m\u001b[0;34m=\u001b[0m\u001b[0mstream_cls\u001b[0m\u001b[0;34m)\u001b[0m\u001b[0;34m)\u001b[0m\u001b[0;34m\u001b[0m\u001b[0;34m\u001b[0m\u001b[0m\n\u001b[0m\u001b[1;32m   1181\u001b[0m \u001b[0;34m\u001b[0m\u001b[0m\n\u001b[1;32m   1182\u001b[0m     def patch(\n",
      "\u001b[0;32m/opt/anaconda3/lib/python3.7/site-packages/openai/_base_client.py\u001b[0m in \u001b[0;36mrequest\u001b[0;34m(self, cast_to, options, remaining_retries, stream, stream_cls)\u001b[0m\n\u001b[1;32m    872\u001b[0m             \u001b[0mstream\u001b[0m\u001b[0;34m=\u001b[0m\u001b[0mstream\u001b[0m\u001b[0;34m,\u001b[0m\u001b[0;34m\u001b[0m\u001b[0;34m\u001b[0m\u001b[0m\n\u001b[1;32m    873\u001b[0m             \u001b[0mstream_cls\u001b[0m\u001b[0;34m=\u001b[0m\u001b[0mstream_cls\u001b[0m\u001b[0;34m,\u001b[0m\u001b[0;34m\u001b[0m\u001b[0;34m\u001b[0m\u001b[0m\n\u001b[0;32m--> 874\u001b[0;31m             \u001b[0mremaining_retries\u001b[0m\u001b[0;34m=\u001b[0m\u001b[0mremaining_retries\u001b[0m\u001b[0;34m,\u001b[0m\u001b[0;34m\u001b[0m\u001b[0;34m\u001b[0m\u001b[0m\n\u001b[0m\u001b[1;32m    875\u001b[0m         )\n\u001b[1;32m    876\u001b[0m \u001b[0;34m\u001b[0m\u001b[0m\n",
      "\u001b[0;32m/opt/anaconda3/lib/python3.7/site-packages/openai/_base_client.py\u001b[0m in \u001b[0;36m_request\u001b[0;34m(self, cast_to, options, remaining_retries, stream, stream_cls)\u001b[0m\n\u001b[1;32m    958\u001b[0m \u001b[0;34m\u001b[0m\u001b[0m\n\u001b[1;32m    959\u001b[0m             \u001b[0mlog\u001b[0m\u001b[0;34m.\u001b[0m\u001b[0mdebug\u001b[0m\u001b[0;34m(\u001b[0m\u001b[0;34m\"Re-raising status error\"\u001b[0m\u001b[0;34m)\u001b[0m\u001b[0;34m\u001b[0m\u001b[0;34m\u001b[0m\u001b[0m\n\u001b[0;32m--> 960\u001b[0;31m             \u001b[0;32mraise\u001b[0m \u001b[0mself\u001b[0m\u001b[0;34m.\u001b[0m\u001b[0m_make_status_error_from_response\u001b[0m\u001b[0;34m(\u001b[0m\u001b[0merr\u001b[0m\u001b[0;34m.\u001b[0m\u001b[0mresponse\u001b[0m\u001b[0;34m)\u001b[0m \u001b[0;32mfrom\u001b[0m \u001b[0;32mNone\u001b[0m\u001b[0;34m\u001b[0m\u001b[0;34m\u001b[0m\u001b[0m\n\u001b[0m\u001b[1;32m    961\u001b[0m \u001b[0;34m\u001b[0m\u001b[0m\n\u001b[1;32m    962\u001b[0m         return self._process_response(\n",
      "\u001b[0;31mAuthenticationError\u001b[0m: Error code: 401 - {'error': {'message': 'Incorrect API key provided: xxxxx. You can find your API key at https://platform.openai.com/account/api-keys.', 'type': 'invalid_request_error', 'param': None, 'code': 'invalid_api_key'}}"
     ]
    }
   ],
   "source": [
    "import time\n",
    "sentiment = []\n",
    "start = time.time()\n",
    "count = 0\n",
    "for i, v in validation_df.iterrows():\n",
    "    sentiment.append(answer(feed(i,validation_df)))\n",
    "time_used = time.time()-start\n",
    "time_used"
   ]
  },
  {
   "cell_type": "code",
   "execution_count": 7,
   "id": "0224fe33",
   "metadata": {},
   "outputs": [
    {
     "data": {
      "text/plain": [
       "4595"
      ]
     },
     "execution_count": 7,
     "metadata": {},
     "output_type": "execute_result"
    }
   ],
   "source": [
    "len(sentiment)"
   ]
  },
  {
   "cell_type": "code",
   "execution_count": 9,
   "id": "c725daaf",
   "metadata": {},
   "outputs": [],
   "source": [
    "validation_df['GPT-4o'] = [i for i in sentiment]"
   ]
  },
  {
   "cell_type": "code",
   "execution_count": 10,
   "id": "276ea658",
   "metadata": {},
   "outputs": [
    {
     "data": {
      "text/html": [
       "<div>\n",
       "<style scoped>\n",
       "    .dataframe tbody tr th:only-of-type {\n",
       "        vertical-align: middle;\n",
       "    }\n",
       "\n",
       "    .dataframe tbody tr th {\n",
       "        vertical-align: top;\n",
       "    }\n",
       "\n",
       "    .dataframe thead th {\n",
       "        text-align: right;\n",
       "    }\n",
       "</style>\n",
       "<table border=\"1\" class=\"dataframe\">\n",
       "  <thead>\n",
       "    <tr style=\"text-align: right;\">\n",
       "      <th></th>\n",
       "      <th>Unnamed: 0</th>\n",
       "      <th>Tweet</th>\n",
       "      <th>Sentiment</th>\n",
       "      <th>GPT-4o</th>\n",
       "      <th>GPT-4o_number</th>\n",
       "      <th>GPT-4o_lowercase</th>\n",
       "      <th>GPT-4o_2</th>\n",
       "      <th>GPT-4o_3</th>\n",
       "    </tr>\n",
       "  </thead>\n",
       "  <tbody>\n",
       "    <tr>\n",
       "      <th>0</th>\n",
       "      <td>0</td>\n",
       "      <td>@csimpsyo @Tbogin @jonlovett Cultured meat</td>\n",
       "      <td>3</td>\n",
       "      <td>neutral</td>\n",
       "      <td>3</td>\n",
       "      <td>neutral</td>\n",
       "      <td>Neutral</td>\n",
       "      <td>neutral</td>\n",
       "    </tr>\n",
       "    <tr>\n",
       "      <th>1</th>\n",
       "      <td>1</td>\n",
       "      <td>RT @ndonyourtable What's the difference betwee...</td>\n",
       "      <td>3</td>\n",
       "      <td>Neutral</td>\n",
       "      <td>3</td>\n",
       "      <td>neutral</td>\n",
       "      <td>Neutral</td>\n",
       "      <td>Neutral</td>\n",
       "    </tr>\n",
       "    <tr>\n",
       "      <th>2</th>\n",
       "      <td>2</td>\n",
       "      <td>#Technology #Tech Lab-Grown Meat Is Coming htt...</td>\n",
       "      <td>3</td>\n",
       "      <td>Neutral</td>\n",
       "      <td>3</td>\n",
       "      <td>neutral</td>\n",
       "      <td>Neutral</td>\n",
       "      <td>Neutral</td>\n",
       "    </tr>\n",
       "    <tr>\n",
       "      <th>3</th>\n",
       "      <td>3</td>\n",
       "      <td>This year is the first time cultivated meat ha...</td>\n",
       "      <td>3</td>\n",
       "      <td>neutral</td>\n",
       "      <td>3</td>\n",
       "      <td>neutral</td>\n",
       "      <td>neutral</td>\n",
       "      <td>neutral</td>\n",
       "    </tr>\n",
       "    <tr>\n",
       "      <th>4</th>\n",
       "      <td>4</td>\n",
       "      <td>RT @NewHarvestOrg 🍗and @UmaValeti, who co-foun...</td>\n",
       "      <td>3</td>\n",
       "      <td>positive</td>\n",
       "      <td>1</td>\n",
       "      <td>positive</td>\n",
       "      <td>Positive</td>\n",
       "      <td>Positive</td>\n",
       "    </tr>\n",
       "    <tr>\n",
       "      <th>...</th>\n",
       "      <td>...</td>\n",
       "      <td>...</td>\n",
       "      <td>...</td>\n",
       "      <td>...</td>\n",
       "      <td>...</td>\n",
       "      <td>...</td>\n",
       "      <td>...</td>\n",
       "      <td>...</td>\n",
       "    </tr>\n",
       "    <tr>\n",
       "      <th>4590</th>\n",
       "      <td>4590</td>\n",
       "      <td>@Joseph_Plant What goes into lab grown meat? I...</td>\n",
       "      <td>2</td>\n",
       "      <td>Negative</td>\n",
       "      <td>2</td>\n",
       "      <td>negative</td>\n",
       "      <td>Negative</td>\n",
       "      <td>Negative</td>\n",
       "    </tr>\n",
       "    <tr>\n",
       "      <th>4591</th>\n",
       "      <td>4591</td>\n",
       "      <td>Google Funding Lab Grown Meat… No Animals Kill...</td>\n",
       "      <td>1</td>\n",
       "      <td>positive</td>\n",
       "      <td>1</td>\n",
       "      <td>positive</td>\n",
       "      <td>positive</td>\n",
       "      <td>positive</td>\n",
       "    </tr>\n",
       "    <tr>\n",
       "      <th>4592</th>\n",
       "      <td>4592</td>\n",
       "      <td>RT @Orbyne #LSEForum cultured meat avoids the ...</td>\n",
       "      <td>1</td>\n",
       "      <td>positive</td>\n",
       "      <td>1</td>\n",
       "      <td>positive</td>\n",
       "      <td>positive</td>\n",
       "      <td>positive</td>\n",
       "    </tr>\n",
       "    <tr>\n",
       "      <th>4593</th>\n",
       "      <td>4593</td>\n",
       "      <td>@MusadADroid @AuthorGusPegel The answer would ...</td>\n",
       "      <td>4</td>\n",
       "      <td>positive</td>\n",
       "      <td>1</td>\n",
       "      <td>positive</td>\n",
       "      <td>positive</td>\n",
       "      <td>positive</td>\n",
       "    </tr>\n",
       "    <tr>\n",
       "      <th>4594</th>\n",
       "      <td>4594</td>\n",
       "      <td>@guardiannews LAB-GROWN MEAT HITS A MAJOR MILE...</td>\n",
       "      <td>3</td>\n",
       "      <td>neutral</td>\n",
       "      <td>3</td>\n",
       "      <td>neutral</td>\n",
       "      <td>Neutral</td>\n",
       "      <td>neutral</td>\n",
       "    </tr>\n",
       "  </tbody>\n",
       "</table>\n",
       "<p>4595 rows × 8 columns</p>\n",
       "</div>"
      ],
      "text/plain": [
       "      Unnamed: 0                                              Tweet  \\\n",
       "0              0         @csimpsyo @Tbogin @jonlovett Cultured meat   \n",
       "1              1  RT @ndonyourtable What's the difference betwee...   \n",
       "2              2  #Technology #Tech Lab-Grown Meat Is Coming htt...   \n",
       "3              3  This year is the first time cultivated meat ha...   \n",
       "4              4  RT @NewHarvestOrg 🍗and @UmaValeti, who co-foun...   \n",
       "...          ...                                                ...   \n",
       "4590        4590  @Joseph_Plant What goes into lab grown meat? I...   \n",
       "4591        4591  Google Funding Lab Grown Meat… No Animals Kill...   \n",
       "4592        4592  RT @Orbyne #LSEForum cultured meat avoids the ...   \n",
       "4593        4593  @MusadADroid @AuthorGusPegel The answer would ...   \n",
       "4594        4594  @guardiannews LAB-GROWN MEAT HITS A MAJOR MILE...   \n",
       "\n",
       "      Sentiment    GPT-4o  GPT-4o_number GPT-4o_lowercase  GPT-4o_2  GPT-4o_3  \n",
       "0             3   neutral              3          neutral   Neutral   neutral  \n",
       "1             3   Neutral              3          neutral   Neutral   Neutral  \n",
       "2             3   Neutral              3          neutral   Neutral   Neutral  \n",
       "3             3   neutral              3          neutral   neutral   neutral  \n",
       "4             3  positive              1         positive  Positive  Positive  \n",
       "...         ...       ...            ...              ...       ...       ...  \n",
       "4590          2  Negative              2         negative  Negative  Negative  \n",
       "4591          1  positive              1         positive  positive  positive  \n",
       "4592          1  positive              1         positive  positive  positive  \n",
       "4593          4  positive              1         positive  positive  positive  \n",
       "4594          3   neutral              3          neutral   Neutral   neutral  \n",
       "\n",
       "[4595 rows x 8 columns]"
      ]
     },
     "execution_count": 10,
     "metadata": {},
     "output_type": "execute_result"
    }
   ],
   "source": [
    "validation_df"
   ]
  },
  {
   "cell_type": "code",
   "execution_count": 18,
   "id": "0be53970",
   "metadata": {},
   "outputs": [
    {
     "name": "stdout",
     "output_type": "stream",
     "text": [
      "Accuracy: 0.7207834602829162\n",
      "Precision: 0.7615508544676489\n",
      "Recall: 0.7207834602829162\n",
      "F1 Score: 0.732738742633678\n"
     ]
    },
    {
     "name": "stderr",
     "output_type": "stream",
     "text": [
      "/opt/anaconda3/lib/python3.7/site-packages/sklearn/metrics/_classification.py:1248: UndefinedMetricWarning: Recall is ill-defined and being set to 0.0 in labels with no true samples. Use `zero_division` parameter to control this behavior.\n",
      "  _warn_prf(average, modifier, msg_start, len(result))\n"
     ]
    }
   ],
   "source": [
    "validation_df['GPT-4o_number'] = validation_df['GPT-4o_number'].fillna(0).astype(int)\n",
    "from sklearn.metrics import accuracy_score, precision_score, recall_score, f1_score\n",
    "\n",
    "accuracy = accuracy_score(validation_df['Sentiment'], validation_df['GPT-4o_number'])\n",
    "precision = precision_score(validation_df['Sentiment'], validation_df['GPT-4o_number'], average='weighted')\n",
    "recall = recall_score(validation_df['Sentiment'], validation_df['GPT-4o_number'], average='weighted')\n",
    "f1 = f1_score(validation_df['Sentiment'], validation_df['GPT-4o_number'], average='weighted')\n",
    "\n",
    "print(f'Accuracy: {accuracy}')\n",
    "print(f'Precision: {precision}')\n",
    "print(f'Recall: {recall}')\n",
    "print(f'F1 Score: {f1}')"
   ]
  }
 ],
 "metadata": {
  "kernelspec": {
   "display_name": "Python 3 (ipykernel)",
   "language": "python",
   "name": "python3"
  },
  "language_info": {
   "codemirror_mode": {
    "name": "ipython",
    "version": 3
   },
   "file_extension": ".py",
   "mimetype": "text/x-python",
   "name": "python",
   "nbconvert_exporter": "python",
   "pygments_lexer": "ipython3",
   "version": "3.7.4"
  }
 },
 "nbformat": 4,
 "nbformat_minor": 5
}
